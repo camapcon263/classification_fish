{
 "cells": [
  {
   "cell_type": "code",
   "execution_count": 1,
   "metadata": {},
   "outputs": [],
   "source": [
    "# import thư viện\n",
    "import os\n",
    "import shutil\n",
    "from PIL import Image"
   ]
  },
  {
   "attachments": {},
   "cell_type": "markdown",
   "metadata": {},
   "source": [
    "### Thực hiện resize ảnh"
   ]
  },
  {
   "cell_type": "code",
   "execution_count": 4,
   "metadata": {},
   "outputs": [],
   "source": [
    "# resize ảnh trong từng folder của đường link D:\\study\\machine_learning\\classification_fish\\data\\NA_Fish_Dataset và lưu lại ảnh\n",
    "path = \"D:\\\\study-hk2\\\\ML\\\\ML\\\\classification_fish\\\\data\\\\data_raw\\\\Fish_Dataset_GT\"\n",
    "folders = os.listdir(path)\n",
    "for folder in folders:\n",
    "    folder_path = os.path.join(path, folder)\n",
    "    num_images = len(os.listdir(folder_path))  # Đếm số lượng ảnh trong thư mục\n",
    "    for i in range(1, num_images + 1):\n",
    "        img_path = os.path.join(folder_path, f\"{str(i).zfill(5)}.png\")\n",
    "\n",
    "        img = Image.open(img_path)\n",
    "        resized_img = img.resize((128, 128), resample=Image.BICUBIC) # thay đổi giá trị của new_width, new_height và resample tùy ý\n",
    "        resized_img.save(img_path)"
   ]
  },
  {
   "attachments": {},
   "cell_type": "markdown",
   "metadata": {},
   "source": [
    "### Thực hiện sửa tên file và định dạng ảnh"
   ]
  },
  {
   "cell_type": "code",
   "execution_count": null,
   "metadata": {},
   "outputs": [],
   "source": [
    "original_folder = 'D:\\\\study-hk2\\\\ML\\\\ML\\\\classification_fish\\\\data\\\\data_raw\\\\NA_Fish_Dataset_Raw'\n",
    "new_folder = 'D:\\\\study-hk2\\\\ML\\\\ML\\\\classification_fish\\\\data\\\\data_raw\\\\NA_Fish_Dataset'\n",
    "\n",
    "# Duyệt qua tất cả các file trong thư mục gốc và các thư mục con của nó\n",
    "for root, dirs, files in os.walk(original_folder):\n",
    "    count = 1\n",
    "    for filename in files:\n",
    "        # Tạo đường dẫn đến file gốc\n",
    "        src_path = os.path.join(root, filename)\n",
    "        # Tính toán đường dẫn tương đối của thư mục gốc đến file\n",
    "        rel_path = os.path.relpath(src_path, original_folder)\n",
    "        # Tạo đường dẫn đến file mới\n",
    "        dest_path = os.path.join(new_folder, rel_path)\n",
    "        # Tạo thư mục mới nếu chưa tồn tại\n",
    "        dest_folder = os.path.dirname(dest_path)\n",
    "        if not os.path.exists(dest_folder):\n",
    "            os.makedirs(dest_folder)\n",
    "        # Đổi tên tệp tin mới\n",
    "        file_name, file_ext = os.path.splitext(filename)\n",
    "        new_file_name = str(count).zfill(5) + '.png'\n",
    "        count += 1\n",
    "        dest_path = os.path.join(dest_folder, new_file_name)\n",
    "        # Copy file gốc sang thư mục mới với tên mới\n",
    "        shutil.copy(src_path, dest_path)\n"
   ]
  }
 ],
 "metadata": {
  "kernelspec": {
   "display_name": "Python 3",
   "language": "python",
   "name": "python3"
  },
  "language_info": {
   "codemirror_mode": {
    "name": "ipython",
    "version": 3
   },
   "file_extension": ".py",
   "mimetype": "text/x-python",
   "name": "python",
   "nbconvert_exporter": "python",
   "pygments_lexer": "ipython3",
   "version": "3.11.1"
  },
  "orig_nbformat": 4
 },
 "nbformat": 4,
 "nbformat_minor": 2
}
