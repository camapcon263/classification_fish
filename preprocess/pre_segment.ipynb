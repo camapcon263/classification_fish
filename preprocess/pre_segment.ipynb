{
 "cells": [
  {
   "cell_type": "code",
   "execution_count": 6,
   "metadata": {},
   "outputs": [],
   "source": [
    "# import thư viện\n",
    "import os\n",
    "import cv2"
   ]
  },
  {
   "cell_type": "code",
   "execution_count": 7,
   "metadata": {},
   "outputs": [],
   "source": [
    "path_img = \"D:\\\\study\\\\machine_learning\\\\classification_fish\\\\data\\\\Fish_Dataset\"\n",
    "path_gt = \"D:\\\\study\\\\machine_learning\\\\classification_fish\\\\data\\\\Fish_Dataset_GT\"\n",
    "output_folder = \"D:\\\\study\\\\machine_learning\\\\classification_fish\\\\data\\\\Fish_Dataset_Segment\""
   ]
  },
  {
   "cell_type": "code",
   "execution_count": 8,
   "metadata": {},
   "outputs": [],
   "source": [
    "# Define the folder names\n",
    "folder_names = ['Black Sea Sprat', 'Gilt Head Bream', 'Hourse Mackerel', 'Red Mullet',\n",
    "               'Red Sea Bream', 'Sea Bass', 'Shrimp', 'Striped Red Mullet', 'Trout']\n",
    "\n",
    "# Create the folders if they don't exist\n",
    "for folder_name in folder_names:\n",
    "    folder_path = os.path.join(output_folder, folder_name)\n",
    "    os.makedirs(folder_path, exist_ok=True)"
   ]
  },
  {
   "cell_type": "code",
   "execution_count": 14,
   "metadata": {},
   "outputs": [
    {
     "name": "stdout",
     "output_type": "stream",
     "text": [
      "D:\\study\\machine_learning\\classification_fish\\data\\Fish_Dataset\\Black Sea Sprat\\Black Sea Sprat\n",
      "D:\\study\\machine_learning\\classification_fish\\data\\Fish_Dataset_GT\\Black Sea Sprat\n",
      "D:\\study\\machine_learning\\classification_fish\\data\\Fish_Dataset\\Gilt Head Bream\\Gilt Head Bream\n",
      "D:\\study\\machine_learning\\classification_fish\\data\\Fish_Dataset_GT\\Gilt Head Bream\n",
      "D:\\study\\machine_learning\\classification_fish\\data\\Fish_Dataset\\Hourse Mackerel\\Hourse Mackerel\n",
      "D:\\study\\machine_learning\\classification_fish\\data\\Fish_Dataset_GT\\Hourse Mackerel\n",
      "D:\\study\\machine_learning\\classification_fish\\data\\Fish_Dataset\\Red Mullet\\Red Mullet\n",
      "D:\\study\\machine_learning\\classification_fish\\data\\Fish_Dataset_GT\\Red Mullet\n",
      "D:\\study\\machine_learning\\classification_fish\\data\\Fish_Dataset\\Red Sea Bream\\Red Sea Bream\n",
      "D:\\study\\machine_learning\\classification_fish\\data\\Fish_Dataset_GT\\Red Sea Bream\n",
      "D:\\study\\machine_learning\\classification_fish\\data\\Fish_Dataset\\Sea Bass\\Sea Bass\n",
      "D:\\study\\machine_learning\\classification_fish\\data\\Fish_Dataset_GT\\Sea Bass\n",
      "D:\\study\\machine_learning\\classification_fish\\data\\Fish_Dataset\\Shrimp\\Shrimp\n",
      "D:\\study\\machine_learning\\classification_fish\\data\\Fish_Dataset_GT\\Shrimp\n",
      "D:\\study\\machine_learning\\classification_fish\\data\\Fish_Dataset\\Striped Red Mullet\\Striped Red Mullet\n",
      "D:\\study\\machine_learning\\classification_fish\\data\\Fish_Dataset_GT\\Striped Red Mullet\n",
      "D:\\study\\machine_learning\\classification_fish\\data\\Fish_Dataset\\Trout\\Trout\n",
      "D:\\study\\machine_learning\\classification_fish\\data\\Fish_Dataset_GT\\Trout\n"
     ]
    }
   ],
   "source": [
    "folders = os.listdir(path_img)\n",
    "for folder in folders:\n",
    "    folder_path = os.path.join(path_img, folder, folder)\n",
    "    folder_gt = os.path.join(path_gt, folder)\n",
    "    print(folder_path)\n",
    "    print(folder_gt)\n",
    "    for i in range(1, 1001):\n",
    "        img_path = os.path.join(folder_path, f\"{str(i).zfill(5)}.png\")\n",
    "        mask_path = os.path.join(folder_gt, f\"{str(i).zfill(5)}.png\")\n",
    "\n",
    "        # đọc ảnh\n",
    "        img = cv2.imread(img_path)\n",
    "        img = cv2.resize(img, (128, 128))\n",
    "        mask = cv2.imread(mask_path)\n",
    "        mask = cv2.resize(mask, (128, 128))\n",
    "\n",
    "        # Chuyển ảnh mask sang ảnh binary\n",
    "        gray = cv2.cvtColor(mask, cv2.COLOR_BGR2GRAY)\n",
    "        ret, thresh = cv2.threshold(gray, 0, 255, cv2.THRESH_BINARY)\n",
    "\n",
    "        # Tìm contours trên ảnh binary\n",
    "        contours, hierarchy = cv2.findContours(thresh, cv2.RETR_TREE, cv2.CHAIN_APPROX_SIMPLE)\n",
    "        # Lặp qua từng contour\n",
    "        for contour in contours:\n",
    "            # Tìm bounding box của contour\n",
    "            x,y,w,h = cv2.boundingRect(contour)\n",
    "            \n",
    "            # Kiểm tra kích thước bounding box\n",
    "            if w > 25 and h > 25:\n",
    "                # Kiểm tra màu của pixel tương ứng trên ảnh ground truth\n",
    "                if mask[y:y+h, x:x+w].max() == 255:\n",
    "                    # Lấy phần ảnh tương ứng từ ảnh gốc\n",
    "                    obj = cv2.bitwise_and(img[y:y+h, x:x+w], mask[y:y+h, x:x+w])\n",
    "                    # Lưu ảnh vào thư mục D:\\study\\machine_learning\\classification_fish\\data\\NA_Fish_Dataset\\ folder\n",
    "                    cv2.imwrite(f\"D:\\\\study\\\\machine_learning\\\\classification_fish\\\\data\\\\Fish_Dataset_Segment\\\\{folder}\\\\{str(i).zfill(5)}.png\", obj)"
   ]
  },
  {
   "cell_type": "code",
   "execution_count": 36,
   "metadata": {},
   "outputs": [],
   "source": [
    "\n",
    "folder_path = \"D:\\\\study\\\\machine_learning\\\\classification_fish\\\\data\\\\Fish_Dataset\\\\Sea Bass\\\\Sea Bass\"\n",
    "folder_gt = \"D:\\\\study\\\\machine_learning\\\\classification_fish\\\\data\\\\Fish_Dataset_GT\\Sea Bass\"\n",
    "\n",
    "for i in range(1, 1001):\n",
    "    img_path = os.path.join(folder_path, f\"{str(i).zfill(5)}.png\")\n",
    "    mask_path = os.path.join(folder_gt, f\"{str(i).zfill(5)}.png\")\n",
    "\n",
    "    # đọc ảnh\n",
    "    img = cv2.imread(img_path)\n",
    "    img = cv2.resize(img, (128, 128))\n",
    "    mask = cv2.imread(mask_path)\n",
    "    mask = cv2.resize(mask, (128, 128))\n",
    "\n",
    "    # Chuyển ảnh mask sang ảnh binary\n",
    "    gray = cv2.cvtColor(mask, cv2.COLOR_BGR2GRAY)\n",
    "    ret, thresh = cv2.threshold(gray, 0, 255, cv2.THRESH_BINARY)\n",
    "\n",
    "    # Tìm contours trên ảnh binary\n",
    "    contours, hierarchy = cv2.findContours(thresh, cv2.RETR_TREE, cv2.CHAIN_APPROX_SIMPLE)\n",
    "\n",
    "    # Lặp qua từng contour\n",
    "    for contour in contours:\n",
    "        # Tìm bounding box của contour\n",
    "        x, y, w, h = cv2.boundingRect(contour)\n",
    "        \n",
    "        # Kiểm tra kích thước bounding box\n",
    "        if w > 25 and h > 25:\n",
    "            # Kiểm tra màu của pixel tương ứng trên ảnh ground truth\n",
    "            if mask[y:y+h, x:x+w].max() == 255:\n",
    "                # Lấy phần ảnh tương ứng từ ảnh gốc\n",
    "                obj = cv2.bitwise_and(img[y:y+h, x:x+w], mask[y:y+h, x:x+w])\n",
    "                \n",
    "                # Điều chỉnh kích thước ảnh obj để bằng kích thước của mask và img\n",
    "                obj = cv2.resize(obj, (mask.shape[1], mask.shape[0]))\n",
    "                \n",
    "                # Lưu ảnh vào thư mục D:\\study\\machine_learning\\classification_fish\\data\\Fish_Dataset_Segment\\Sea Bass\n",
    "                cv2.imwrite(f\"D:\\\\study\\\\machine_learning\\\\classification_fish\\\\data\\\\Fish_Dataset_Segment\\\\Sea Bass\\\\{str(i).zfill(5)}.png\", obj)\n"
   ]
  }
 ],
 "metadata": {
  "kernelspec": {
   "display_name": "Python 3",
   "language": "python",
   "name": "python3"
  },
  "language_info": {
   "codemirror_mode": {
    "name": "ipython",
    "version": 3
   },
   "file_extension": ".py",
   "mimetype": "text/x-python",
   "name": "python",
   "nbconvert_exporter": "python",
   "pygments_lexer": "ipython3",
   "version": "3.11.1"
  },
  "orig_nbformat": 4
 },
 "nbformat": 4,
 "nbformat_minor": 2
}
