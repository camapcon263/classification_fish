{
 "cells": [
  {
   "cell_type": "code",
   "execution_count": 5,
   "metadata": {},
   "outputs": [],
   "source": [
    "import os\n",
    "import cv2\n",
    "from PIL import Image"
   ]
  },
  {
   "cell_type": "code",
   "execution_count": 1,
   "metadata": {},
   "outputs": [],
   "source": [
    "path_data = \"D:\\\\study\\\\machine_learning\\\\classification_fish\\\\data\\\\Fish_Dataset\"\n",
    "output_folder = \"D:\\\\study\\\\machine_learning\\\\classification_fish\\\\clustering\\\\data\\\\Fish_Dataset\""
   ]
  },
  {
   "cell_type": "code",
   "execution_count": 3,
   "metadata": {},
   "outputs": [],
   "source": [
    "# Define the folder names\n",
    "folder_names = ['Black Sea Sprat', 'Gilt Head Bream', 'Hourse Mackerel', 'Red Mullet',\n",
    "               'Red Sea Bream', 'Sea Bass', 'Shrimp', 'Striped Red Mullet', 'Trout']\n",
    "\n",
    "# Create the folders if they don't exist\n",
    "for folder_name in folder_names:\n",
    "    folder_path = os.path.join(output_folder, folder_name)\n",
    "    os.makedirs(folder_path, exist_ok=True)"
   ]
  },
  {
   "cell_type": "code",
   "execution_count": 7,
   "metadata": {},
   "outputs": [],
   "source": [
    "folders = os.listdir(path_data)\n",
    "for folder in folders:\n",
    "    folder_path = os.path.join(path_data, folder, folder)\n",
    "    k = 1\n",
    "    for i in range (1, 1001, 20):\n",
    "        img_path = os.path.join(folder_path, f\"{str(i).zfill(5)}.png\")\n",
    "        img_save = os.path.join(output_folder, folder, f\"{str(k).zfill(5)}.png\")\n",
    "        img = Image.open(img_path)\n",
    "        resized_img = img.resize((128, 128), resample=Image.BICUBIC) # thay đổi giá trị của new_width, new_height và resample tùy ý\n",
    "        resized_img.save(img_save)\n",
    "        k = k + 1"
   ]
  },
  {
   "cell_type": "code",
   "execution_count": 9,
   "metadata": {},
   "outputs": [],
   "source": [
    "path_data = \"D:\\\\study\\\\machine_learning\\\\classification_fish\\\\data\\\\NA_Fish_Dataset\""
   ]
  },
  {
   "cell_type": "code",
   "execution_count": 13,
   "metadata": {},
   "outputs": [],
   "source": [
    "folders = os.listdir(path_data)\n",
    "for folder in folders:\n",
    "    folder_path = os.path.join(path_data, folder)\n",
    "    k = 51\n",
    "    if folder == \"Trout\":\n",
    "        for i in range (1, 31):\n",
    "            img_path = os.path.join(folder_path, f\"{str(i).zfill(5)}.png\")\n",
    "            img_save = os.path.join(output_folder, folder, f\"{str(k).zfill(5)}.png\")\n",
    "            img = Image.open(img_path)\n",
    "            resized_img = img.resize((128, 128), resample=Image.BICUBIC) # thay đổi giá trị của new_width, new_height và resample tùy ý\n",
    "            resized_img.save(img_save)\n",
    "            k = k + 1\n",
    "    else:\n",
    "        for i in range (1, 51):\n",
    "            img_path = os.path.join(folder_path, f\"{str(i).zfill(5)}.png\")\n",
    "            img_save = os.path.join(output_folder, folder, f\"{str(k).zfill(5)}.png\")\n",
    "            img = Image.open(img_path)\n",
    "            resized_img = img.resize((128, 128), resample=Image.BICUBIC) # thay đổi giá trị của new_width, new_height và resample tùy ý\n",
    "            resized_img.save(img_save)\n",
    "            k = k + 1"
   ]
  }
 ],
 "metadata": {
  "kernelspec": {
   "display_name": "Python 3",
   "language": "python",
   "name": "python3"
  },
  "language_info": {
   "codemirror_mode": {
    "name": "ipython",
    "version": 3
   },
   "file_extension": ".py",
   "mimetype": "text/x-python",
   "name": "python",
   "nbconvert_exporter": "python",
   "pygments_lexer": "ipython3",
   "version": "3.11.1"
  },
  "orig_nbformat": 4
 },
 "nbformat": 4,
 "nbformat_minor": 2
}
