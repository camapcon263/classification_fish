{
 "cells": [
  {
   "cell_type": "code",
   "execution_count": null,
   "metadata": {},
   "outputs": [],
   "source": [
    "import numpy as np \n",
    "import pandas as pd\n",
    "import matplotlib.pyplot as plt\n",
    "import tensorflow as tf\n",
    "import itertools\n",
    "import os\n",
    "import cv2"
   ]
  },
  {
   "cell_type": "code",
   "execution_count": null,
   "metadata": {},
   "outputs": [],
   "source": [
    "from sklearn.model_selection import train_test_split \n",
    "from sklearn.metrics import confusion_matrix, accuracy_score, recall_score, precision_score\n",
    "\n",
    "from keras.models import Sequential, load_model\n",
    "from keras.layers import Dense, Flatten, Conv2D, MaxPool2D, Dropout, BatchNormalization\n",
    "from keras.optimizers import Adam\n",
    "from keras.callbacks import ReduceLROnPlateau"
   ]
  },
  {
   "cell_type": "code",
   "execution_count": null,
   "metadata": {},
   "outputs": [],
   "source": [
    "from skopt import gp_minimize\n",
    "from skopt.space import Real, Integer, Categorical\n",
    "from skopt.plots import plot_convergence, plot_objective, plot_evaluations\n",
    "from skopt.utils import use_named_args"
   ]
  },
  {
   "cell_type": "code",
   "execution_count": null,
   "metadata": {},
   "outputs": [],
   "source": [
    "DIR = \"D:\\\\study\\\\machine_learning\\\\classification_fish\\\\data\\\\Fish_Dataset\"\n",
    "classes = [i for i in os.listdir(DIR) if '.' not in i]                     \n",
    "classes"
   ]
  },
  {
   "cell_type": "code",
   "execution_count": null,
   "metadata": {},
   "outputs": [],
   "source": [
    "data = []\n",
    "# path = 'D:\\study-hk2\\ML\\ML\\classification_fish\\data\\Fish_Dataset' \n",
    "path = \"D:\\\\study\\\\machine_learning\\\\classification_fish\\\\data\\\\Fish_Dataset\"\n",
    "folders = os.listdir(path)\n",
    "for folder in folders:\n",
    "    folder_path = os.path.join(path, folder, folder)\n",
    "    for i in range(1, 1001):\n",
    "        img_path = os.path.join(folder_path, f\"{str(i).zfill(5)}.png\")\n",
    "\n",
    "        img = cv2.imread(img_path)\n",
    "        img = cv2.cvtColor(img, cv2.COLOR_BGR2RGB)\n",
    "        img = cv2.resize(img, (128, 128))\n",
    "        data.append([img, folder])"
   ]
  },
  {
   "cell_type": "code",
   "execution_count": null,
   "metadata": {},
   "outputs": [],
   "source": [
    "# in ra một vài ảnh và nhãn tương ứng\n",
    "plt.figure(figsize=(20, 10))\n",
    "for i in range(10):\n",
    "    plt.subplot(2, 5, i+1)\n",
    "    j = np.random.randint(0, 9000)\n",
    "    plt.imshow(data[j+i][0])\n",
    "    plt.title(data[j+i][1])"
   ]
  },
  {
   "cell_type": "code",
   "execution_count": null,
   "metadata": {},
   "outputs": [],
   "source": [
    "# tạo image và label từ data\n",
    "images = []\n",
    "labels = []\n",
    "for image, label in data:\n",
    "    images.append(image)\n",
    "    labels.append(label)"
   ]
  },
  {
   "cell_type": "code",
   "execution_count": null,
   "metadata": {},
   "outputs": [],
   "source": [
    "# chuấn hóa label\n",
    "from sklearn.preprocessing import LabelEncoder\n",
    "le = LabelEncoder()\n",
    "labels = le.fit_transform(labels)\n",
    "\n",
    "# in ra label và tên tương ứng\n",
    "for i in range(9):\n",
    "    print(i, le.classes_[i])"
   ]
  },
  {
   "cell_type": "code",
   "execution_count": null,
   "metadata": {},
   "outputs": [],
   "source": [
    "labels = tf.keras.utils.to_categorical(labels, num_classes=9)\n",
    "labels"
   ]
  },
  {
   "cell_type": "code",
   "execution_count": null,
   "metadata": {},
   "outputs": [],
   "source": [
    "# reshape images\n",
    "images = np.array(images)\n",
    "# images = images.reshape(images.shape[0], 150, 150, 3)\n",
    "images = images.reshape(images.shape[0], 128, 128, 3)\n",
    "images.shape"
   ]
  },
  {
   "cell_type": "code",
   "execution_count": null,
   "metadata": {},
   "outputs": [],
   "source": [
    "# chuẩn hóa images\n",
    "images = images.astype('float32') / 255.0"
   ]
  },
  {
   "cell_type": "code",
   "execution_count": null,
   "metadata": {},
   "outputs": [],
   "source": [
    "# chia train, validation sao cho các lớp có số lượng ảnh tương đương nhau\n",
    "from sklearn.model_selection import train_test_split\n",
    "\n",
    "train_images, val_images, train_labels, val_labels = train_test_split(images, labels, test_size=1000, stratify=labels)\n",
    "\n",
    "train_images.shape, val_images.shape, train_labels.shape, val_labels.shape"
   ]
  },
  {
   "cell_type": "code",
   "execution_count": null,
   "metadata": {},
   "outputs": [],
   "source": [
    "# đếm số lượng ảnh của mỗi lớp trong tập train\n",
    "unique, counts = np.unique(np.argmax(train_labels, axis=1), return_counts=True)\n",
    "dict(zip(unique, counts))"
   ]
  },
  {
   "cell_type": "code",
   "execution_count": null,
   "metadata": {},
   "outputs": [],
   "source": [
    "data_test = []\n",
    "path = \"D:\\\\study\\\\machine_learning\\\\classification_fish\\\\data\\\\NA_Fish_Dataset\"\n",
    "# path = 'D:\\\\study-hk2\\\\ML\\\\ML\\\\classification_fish\\\\data\\\\NA_Fish_Dataset'\n",
    "folders = os.listdir(path)\n",
    "for folder in folders:\n",
    "    folder_path = os.path.join(path, folder)\n",
    "    num_images = len(os.listdir(folder_path))  # Đếm số lượng ảnh trong thư mục\n",
    "    for i in range(1, num_images + 1):\n",
    "        img_path = os.path.join(folder_path, f\"{str(i).zfill(5)}.png\")\n",
    "\n",
    "        img = cv2.imread(img_path)\n",
    "        img = cv2.cvtColor(img, cv2.COLOR_BGR2RGB)\n",
    "        img = cv2.resize(img, (128,128))\n",
    "        data_test.append([img, folder])"
   ]
  },
  {
   "cell_type": "code",
   "execution_count": null,
   "metadata": {},
   "outputs": [],
   "source": [
    "# shuffle data_test\n",
    "import random\n",
    "random.shuffle(data_test)"
   ]
  },
  {
   "cell_type": "code",
   "execution_count": null,
   "metadata": {},
   "outputs": [],
   "source": [
    "# tạo image và label từ data_test\n",
    "test_images = []\n",
    "test_labels = []\n",
    "for image, label in data_test:\n",
    "    test_images.append(image)\n",
    "    test_labels.append(label)"
   ]
  },
  {
   "cell_type": "code",
   "execution_count": null,
   "metadata": {},
   "outputs": [],
   "source": [
    "# chuấn hóa label\n",
    "from sklearn.preprocessing import LabelEncoder\n",
    "le = LabelEncoder()\n",
    "test_labels = le.fit_transform(test_labels)\n",
    "\n",
    "# in ra label và tên tương ứng\n",
    "for i in range(9):\n",
    "    print(i, le.classes_[i])"
   ]
  },
  {
   "cell_type": "code",
   "execution_count": null,
   "metadata": {},
   "outputs": [],
   "source": [
    "test_labels  = tf.keras.utils.to_categorical(test_labels , num_classes=9)\n",
    "test_labels "
   ]
  },
  {
   "cell_type": "code",
   "execution_count": null,
   "metadata": {},
   "outputs": [],
   "source": [
    "# reshape images\n",
    "test_images = np.array(test_images)\n",
    "# images = images.reshape(images.shape[0], 150, 150, 3)\n",
    "test_images = test_images.reshape(test_images.shape[0], 128, 128, 3)\n",
    "test_images.shape"
   ]
  },
  {
   "cell_type": "code",
   "execution_count": null,
   "metadata": {},
   "outputs": [],
   "source": [
    "test_images = test_images.astype('float32') / 255.0"
   ]
  },
  {
   "cell_type": "code",
   "execution_count": null,
   "metadata": {},
   "outputs": [],
   "source": [
    "def create_cnn(learning_rate, num_dense_layers, num_dense_nodes, dropout_rate):\n",
    "    model = Sequential()\n",
    "\n",
    "    model.add(Conv2D(kernel_size=3, strides=2, filters=32, padding=\"same\", activation='relu', name=\"layer_conv1\"))\n",
    "    model.add(MaxPool2D(pool_size=2, strides=2))\n",
    "\n",
    "    model.add(Conv2D(kernel_size=3, strides=2, filters=64, padding=\"same\", activation='relu', name=\"layer_conv2\"))\n",
    "    model.add(MaxPool2D(pool_size=2, strides=2))\n",
    "\n",
    "    model.add(Conv2D(kernel_size=3, strides=1, filters=128, padding=\"same\", activation='relu', name=\"layer_conv3\"))\n",
    "    model.add(MaxPool2D(pool_size=2, strides=2))\n",
    "\n",
    "    model.add(Flatten())\n",
    "\n",
    "    for i in range(num_dense_layers):\n",
    "        name = f\"layer_dense_{i+1}\"\n",
    "        model.add(Dense(num_dense_nodes, activation='relu', name=name))\n",
    "        model.add(Dropout(rate=dropout_rate))\n",
    "    \n",
    "    model.add(Dense(9, activation=\"softmax\"))\n",
    "\n",
    "    optimizer = Adam(learning_rate=learning_rate)\n",
    "    model.compile(optimizer=optimizer, loss=\"categorical_crossentropy\", metrics=[\"accuracy\"])\n",
    "    return model"
   ]
  },
  {
   "cell_type": "code",
   "execution_count": null,
   "metadata": {},
   "outputs": [],
   "source": [
    "path_best_model = \"cnn_model1.h5\"\n",
    "best_accuracy = 0.0"
   ]
  }
 ],
 "metadata": {
  "language_info": {
   "name": "python"
  },
  "orig_nbformat": 4
 },
 "nbformat": 4,
 "nbformat_minor": 2
}
