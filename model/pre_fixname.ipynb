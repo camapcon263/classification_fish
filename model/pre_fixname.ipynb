{
 "cells": [
  {
   "cell_type": "code",
   "execution_count": null,
   "metadata": {},
   "outputs": [],
   "source": [
    "from PIL import Image\n",
    "\n",
    "# resize ảnh trong từng folder của đường link D:\\study\\machine_learning\\classification_fish\\data\\NA_Fish_Dataset và lưu lại ảnh\n",
    "path = \"D:\\\\study\\\\machine_learning\\\\classification_fish\\\\data\\\\NA_Fish_Dataset\"\n",
    "folders = os.listdir(path)\n",
    "for folder in folders:\n",
    "    folder_path = os.path.join(path, folder)\n",
    "    num_images = len(os.listdir(folder_path))  # Đếm số lượng ảnh trong thư mục\n",
    "    for i in range(1, num_images + 1):\n",
    "        img_path = os.path.join(folder_path, f\"{str(i).zfill(5)}.png\")\n",
    "\n",
    "        img = Image.open(img_path)\n",
    "        resized_img = img.resize((590, 445), resample=Image.BICUBIC) # thay đổi giá trị của new_width, new_height và resample tùy ý\n",
    "        resized_img.save(img_path)"
   ]
  },
  {
   "cell_type": "code",
   "execution_count": null,
   "metadata": {},
   "outputs": [],
   "source": [
    "import os\n",
    "from PIL import Image\n",
    "\n",
    "# Đường dẫn thư mục chứa ảnh cũ\n",
    "old_folder_path = 'D:/study/machine_learning/classification_fish/data/NA_Fish_Dataset'\n",
    "\n",
    "# Đường dẫn thư mục lưu ảnh mới\n",
    "new_folder_path = 'D:/study/machine_learning/classification_fish/data/Test_Image'\n",
    "\n",
    "# Lặp qua từng thư mục trong old_folder_path\n",
    "for folder_name in os.listdir(old_folder_path):\n",
    "    i = 0\n",
    "    # Đường dẫn thư mục con của old_folder_path\n",
    "    subfolder_path = os.path.join(old_folder_path, folder_name)\n",
    "    \n",
    "    # Lặp qua từng file trong thư mục con\n",
    "    for file_name in os.listdir(subfolder_path):\n",
    "        # Đường dẫn của file ảnh cũ\n",
    "        old_file_path = os.path.join(subfolder_path, file_name)\n",
    "        \n",
    "        # Đường dẫn của file ảnh mới\n",
    "        new_file_name = \"{}.png\".format(i)  # Sửa tên file và đổi đuôi\n",
    "        new_subfolder_path = os.path.join(new_folder_path, folder_name)  # Đường dẫn thư mục con mới\n",
    "        new_file_path = os.path.join(new_subfolder_path, new_file_name)  # Đường dẫn file mới\n",
    "        \n",
    "        # Tạo thư mục con mới nếu chưa tồn tại\n",
    "        if not os.path.exists(new_subfolder_path):\n",
    "            os.makedirs(new_subfolder_path)\n",
    "        \n",
    "        # Mở và lưu ảnh mới\n",
    "        with Image.open(old_file_path) as img:\n",
    "            img.save(new_file_path, 'PNG')\n",
    "        i = i + 1"
   ]
  },
  {
   "attachments": {},
   "cell_type": "markdown",
   "metadata": {},
   "source": [
    "chỉnh sửa đổi tên file ảnh"
   ]
  },
  {
   "cell_type": "code",
   "execution_count": null,
   "metadata": {},
   "outputs": [],
   "source": [
    "import os\n",
    "import shutil\n",
    "\n",
    "original_folder = 'D:\\\\study-hk2\\\\ML\\\\ML\\\\classification_fish\\\\data\\\\NA_Fish_Dataset'\n",
    "new_folder = 'D:\\\\study-hk2\\\\ML\\\\ML\\\\classification_fish\\\\data\\\\NA_Fish_Dataset_new'\n",
    "\n",
    "# Duyệt qua tất cả các file trong thư mục gốc và các thư mục con của nó\n",
    "for root, dirs, files in os.walk(original_folder):\n",
    "    count = 1\n",
    "    for filename in files:\n",
    "        # Tạo đường dẫn đến file gốc\n",
    "        src_path = os.path.join(root, filename)\n",
    "        # Tính toán đường dẫn tương đối của thư mục gốc đến file\n",
    "        rel_path = os.path.relpath(src_path, original_folder)\n",
    "        # Tạo đường dẫn đến file mới\n",
    "        dest_path = os.path.join(new_folder, rel_path)\n",
    "        # Tạo thư mục mới nếu chưa tồn tại\n",
    "        dest_folder = os.path.dirname(dest_path)\n",
    "        if not os.path.exists(dest_folder):\n",
    "            os.makedirs(dest_folder)\n",
    "        # Đổi tên tệp tin mới\n",
    "        file_name, file_ext = os.path.splitext(filename)\n",
    "        new_file_name = str(count).zfill(5) + '.png'\n",
    "        count += 1\n",
    "        dest_path = os.path.join(dest_folder, new_file_name)\n",
    "        # Copy file gốc sang thư mục mới với tên mới\n",
    "        shutil.copy(src_path, dest_path)\n"
   ]
  }
 ],
 "metadata": {
  "language_info": {
   "name": "python"
  },
  "orig_nbformat": 4
 },
 "nbformat": 4,
 "nbformat_minor": 2
}
