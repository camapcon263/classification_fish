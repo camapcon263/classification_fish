{
 "cells": [
  {
   "cell_type": "code",
   "execution_count": 1,
   "metadata": {},
   "outputs": [],
   "source": [
    "import cv2\n",
    "import os"
   ]
  },
  {
   "cell_type": "code",
   "execution_count": 5,
   "metadata": {},
   "outputs": [
    {
     "data": {
      "text/plain": [
       "['Black Sea Sprat',\n",
       " 'Gilt Head Bream',\n",
       " 'Hourse Mackerel',\n",
       " 'Red Mullet',\n",
       " 'Red Sea Bream',\n",
       " 'Sea Bass',\n",
       " 'Shrimp',\n",
       " 'Striped Red Mullet',\n",
       " 'Trout']"
      ]
     },
     "execution_count": 5,
     "metadata": {},
     "output_type": "execute_result"
    }
   ],
   "source": [
    "# hiện thị tên các thư mục trong Fish_Dataset\n",
    "folders = os.listdir(\"D:\\\\study\\\\machine_learning\\\\classification_fish\\\\data\\\\Fish_Dataset\")\n",
    "folders"
   ]
  },
  {
   "cell_type": "code",
   "execution_count": 5,
   "metadata": {},
   "outputs": [],
   "source": [
    "path = \"D:\\\\study\\\\machine_learning\\\\classification_fish\\\\data\\\\Fish_Dataset\"\n",
    "folders = os.listdir(path)\n",
    "for folder in folders:\n",
    "    folder_path = os.path.join(path, folder, folder)\n",
    "    folder_path_gt = os.path.join(path, folder, folder + \" GT\")\n",
    "    for i in range(1, 1001):\n",
    "        img_path = os.path.join(folder_path, f\"{str(i).zfill(5)}.png\")\n",
    "        mask_path = os.path.join(folder_path_gt, f\"{str(i).zfill(5)}.png\")\n",
    "\n",
    "        # đọc ảnh\n",
    "        img = cv2.imread(img_path)\n",
    "        mask = cv2.imread(mask_path)\n",
    "\n",
    "        # Chuyển ảnh mask sang ảnh binary\n",
    "        gray = cv2.cvtColor(mask, cv2.COLOR_BGR2GRAY)\n",
    "        ret, thresh = cv2.threshold(gray, 0, 255, cv2.THRESH_BINARY)\n",
    "\n",
    "        # Tìm contours trên ảnh binary\n",
    "        contours, hierarchy = cv2.findContours(thresh, cv2.RETR_TREE, cv2.CHAIN_APPROX_SIMPLE)\n",
    "        # Lặp qua từng contour\n",
    "        for contour in contours:\n",
    "            # Tìm bounding box của contour\n",
    "            x,y,w,h = cv2.boundingRect(contour)\n",
    "            \n",
    "            # Kiểm tra màu của pixel tương ứng trên ảnh ground truth\n",
    "            if mask[y:y+h, x:x+w].max() == 255:\n",
    "                # Lấy phần ảnh tương ứng từ ảnh gốc\n",
    "                obj = cv2.bitwise_and(img[y:y+h, x:x+w], mask[y:y+h, x:x+w])\n",
    "                # Lưu ảnh vào thư mục D:\\study\\machine_learning\\classification_fish\\data\\NA_Fish_Dataset\\ folder\n",
    "                cv2.imwrite(f\"D:\\\\study\\\\machine_learning\\\\classification_fish\\\\data\\\\Fish_Dataset_Segment\\\\{folder}\\\\{str(i).zfill(5)}.png\", obj)\n"
   ]
  }
 ],
 "metadata": {
  "kernelspec": {
   "display_name": "Python 3",
   "language": "python",
   "name": "python3"
  },
  "language_info": {
   "codemirror_mode": {
    "name": "ipython",
    "version": 3
   },
   "file_extension": ".py",
   "mimetype": "text/x-python",
   "name": "python",
   "nbconvert_exporter": "python",
   "pygments_lexer": "ipython3",
   "version": "3.11.1"
  },
  "orig_nbformat": 4
 },
 "nbformat": 4,
 "nbformat_minor": 2
}
