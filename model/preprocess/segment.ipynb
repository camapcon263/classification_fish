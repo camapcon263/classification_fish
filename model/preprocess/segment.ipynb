{
 "cells": [
  {
   "cell_type": "code",
   "execution_count": 2,
   "metadata": {},
   "outputs": [],
   "source": [
    "# import thư viện\n",
    "import os\n",
    "import cv2\n",
    "import numpy as np\n",
    "from tensorflow.keras.models import Model, load_model\n",
    "from PIL import Image\n",
    "import tensorflow as tf\n",
    "from sklearn.model_selection import train_test_split\n",
    "from sklearn.preprocessing import LabelEncoder"
   ]
  },
  {
   "cell_type": "code",
   "execution_count": 3,
   "metadata": {},
   "outputs": [],
   "source": [
    "# Tính chỉ số IoU (Intersection over Union) và áp dụng để đánh giá mô hình.\n",
    "def iou_metric(y_true_in, y_pred_in, print_table=False):\n",
    "    labels = label(y_true_in > 0.5)\n",
    "    y_pred = label(y_pred_in > 0.5)\n",
    "    \n",
    "    true_objects = len(np.unique(labels))\n",
    "    pred_objects = len(np.unique(y_pred))\n",
    "\n",
    "    intersection = np.histogram2d(labels.flatten(), y_pred.flatten(), bins=(true_objects, pred_objects))[0]\n",
    "\n",
    "    #  Chuẩn bị dữ liệu để tính toán union (tổng hợp) giữa các đối tượng\n",
    "    area_true = np.histogram(labels, bins = true_objects)[0]\n",
    "    area_pred = np.histogram(y_pred, bins = pred_objects)[0]\n",
    "    area_true = np.expand_dims(area_true, -1)\n",
    "    area_pred = np.expand_dims(area_pred, 0)\n",
    "\n",
    "    # Tính union\n",
    "    union = area_true + area_pred - intersection\n",
    "\n",
    "    # Lọc bỏ nền\n",
    "    intersection = intersection[1:,1:]\n",
    "    union = union[1:,1:]\n",
    "    union[union == 0] = 1e-9\n",
    "\n",
    "    # Tính toán chỉ số iou\n",
    "    iou = intersection / union\n",
    "    # tính toán các tp,fp,fn dựa trên ngưỡng và iou\n",
    "    def precision_at(threshold, iou):\n",
    "        matches = iou > threshold\n",
    "        true_positives = np.sum(matches, axis=1) == 1   # đối tượng đúng\n",
    "        false_positives = np.sum(matches, axis=0) == 0  # đối tượng bị khuyết thiếu\n",
    "        false_negatives = np.sum(matches, axis=1) == 0  # đối tượng phụ\n",
    "        tp, fp, fn = np.sum(true_positives), np.sum(false_positives), np.sum(false_negatives)\n",
    "        return tp, fp, fn\n",
    "\n",
    "    #Tính toán các giá trị precision (độ chính xác) tương ứng với từng ngưỡng (threshold) IoU (Intersection over Union) thông qua vòng lặp for:\n",
    "    prec = []\n",
    "    if print_table:\n",
    "        print(\"Thresh\\tTP\\tFP\\tFN\\tPrec.\")\n",
    "    for t in np.arange(0.5, 1.0, 0.05):\n",
    "        tp, fp, fn = precision_at(t, iou)\n",
    "        if (tp + fp + fn) > 0:\n",
    "            p = tp / (tp + fp + fn)\n",
    "        else:\n",
    "            p = 0\n",
    "        if print_table:\n",
    "            print(\"{:1.3f}\\t{}\\t{}\\t{}\\t{:1.3f}\".format(t, tp, fp, fn, p))\n",
    "        prec.append(p)\n",
    "    \n",
    "    if print_table:\n",
    "        print(\"AP\\t-\\t-\\t-\\t{:1.3f}\".format(np.mean(prec)))\n",
    "    return np.mean(prec)\n",
    "\n",
    "\n",
    "# Tính trung bình các iou trên từng mẫu \n",
    "def iou_metric_batch(y_true_in, y_pred_in):\n",
    "    batch_size = y_true_in.shape[0]\n",
    "    metric = []\n",
    "    for batch in range(batch_size):\n",
    "        value = iou_metric(y_true_in[batch], y_pred_in[batch])\n",
    "        metric.append(value)\n",
    "    return np.array(np.mean(metric), dtype=np.float32)\n",
    "\n",
    "# Đánh giá mô hình  trả về giá trị số thực\n",
    "def my_iou_metric(label, pred):\n",
    "    metric_value = tf.py_function(iou_metric_batch, [label, pred], tf.float32)\n",
    "    return metric_value"
   ]
  },
  {
   "attachments": {},
   "cell_type": "markdown",
   "metadata": {},
   "source": [
    "# Đọc dữ liệu cho tập FISH_DATASET"
   ]
  },
  {
   "cell_type": "code",
   "execution_count": 5,
   "metadata": {},
   "outputs": [],
   "source": [
    "path = \"D:\\\\study\\\\machine_learning\\\\classification_fish\\\\data\\\\data_raw\\\\Fish_Dataset\""
   ]
  },
  {
   "cell_type": "code",
   "execution_count": 6,
   "metadata": {},
   "outputs": [],
   "source": [
    "data = [] # mảng chứa dữ liệu\n",
    "folders = os.listdir(path)\n",
    "for folder in folders:\n",
    "    folder_path = os.path.join(path, folder, folder)\n",
    "    for i in range(1, 1001):\n",
    "        img_path = os.path.join(folder_path, f\"{str(i).zfill(5)}.png\")\n",
    "\n",
    "        img = cv2.imread(img_path)\n",
    "        img = cv2.cvtColor(img, cv2.COLOR_BGR2RGB)\n",
    "        img = cv2.resize(img, (128, 128))\n",
    "        data.append([img, folder])"
   ]
  },
  {
   "cell_type": "code",
   "execution_count": 7,
   "metadata": {},
   "outputs": [],
   "source": [
    "images = []\n",
    "names = []\n",
    "\n",
    "for image, name in data:\n",
    "    images.append(image)\n",
    "    names.append(name)"
   ]
  },
  {
   "cell_type": "code",
   "execution_count": 8,
   "metadata": {},
   "outputs": [
    {
     "name": "stdout",
     "output_type": "stream",
     "text": [
      "0 Black Sea Sprat\n",
      "1 Gilt Head Bream\n",
      "2 Hourse Mackerel\n",
      "3 Red Mullet\n",
      "4 Red Sea Bream\n",
      "5 Sea Bass\n",
      "6 Shrimp\n",
      "7 Striped Red Mullet\n",
      "8 Trout\n"
     ]
    }
   ],
   "source": [
    "# chuấn hóa label thành dạng số\n",
    "le = LabelEncoder()\n",
    "names = le.fit_transform(names)\n",
    "\n",
    "# in ra label và tên tương ứng\n",
    "for i in range(9):\n",
    "    print(i, le.classes_[i])"
   ]
  },
  {
   "cell_type": "code",
   "execution_count": 9,
   "metadata": {},
   "outputs": [],
   "source": [
    "masks = [] # mảng chứa dữ liệu\n",
    "folders = os.listdir(path)\n",
    "for folder in folders:\n",
    "    folder_gt = folder + \" GT\"\n",
    "    folder_path = os.path.join(path, folder, folder_gt)\n",
    "    for i in range(1, 1001):\n",
    "        img_path = os.path.join(folder_path, f\"{str(i).zfill(5)}.png\")\n",
    "\n",
    "        img = cv2.imread(img_path)\n",
    "        img = cv2.cvtColor(img, cv2.COLOR_BGR2GRAY)\n",
    "        img = cv2.resize(img, (128, 128))\n",
    "        masks.append(img)"
   ]
  },
  {
   "cell_type": "code",
   "execution_count": 10,
   "metadata": {},
   "outputs": [],
   "source": [
    "images = np.array(images)\n",
    "masks = np.array(masks)\n",
    "masks = masks.reshape(9000, 128, 128, 1)\n",
    "masks = masks.astype(bool)"
   ]
  },
  {
   "attachments": {},
   "cell_type": "markdown",
   "metadata": {},
   "source": [
    "# Load model unet1 để tạo ra các ảnh mask cho dữ liệu"
   ]
  },
  {
   "cell_type": "code",
   "execution_count": 12,
   "metadata": {},
   "outputs": [],
   "source": [
    "model = load_model('D:\\\\study\\\\machine_learning\\\\classification_fish\\\\model\\\\segmeantation\\\\unet_1.hdf5', \n",
    "                   custom_objects={'my_iou_metric': my_iou_metric})"
   ]
  },
  {
   "cell_type": "code",
   "execution_count": 13,
   "metadata": {},
   "outputs": [
    {
     "name": "stdout",
     "output_type": "stream",
     "text": [
      "282/282 [==============================] - 135s 480ms/step\n"
     ]
    }
   ],
   "source": [
    "preds_ = model.predict(images, verbose=1)"
   ]
  },
  {
   "cell_type": "code",
   "execution_count": 14,
   "metadata": {},
   "outputs": [],
   "source": [
    "preds_ = (preds_ > 0.5).astype(np.uint8)"
   ]
  },
  {
   "cell_type": "code",
   "execution_count": 15,
   "metadata": {},
   "outputs": [],
   "source": [
    "output_folder = 'D:\\\\study\\\\machine_learning\\\\classification_fish\\\\data\\\\data_fix\\\\Fish_Dataset_GT'\n",
    "if not os.path.exists(output_folder):\n",
    "    os.makedirs(output_folder)"
   ]
  },
  {
   "cell_type": "code",
   "execution_count": 16,
   "metadata": {},
   "outputs": [],
   "source": [
    "# Xác định các thư mục\n",
    "folder_names = ['Black Sea Sprat', 'Gilt Head Bream', 'Hourse Mackerel', 'Red Mullet',\n",
    "               'Red Sea Bream', 'Sea Bass', 'Shrimp', 'Striped Red Mullet', 'Trout']\n",
    "\n",
    "# Tạo ra các thư mục nếu nó chưa tồn tại\n",
    "for folder_name in folder_names:\n",
    "    folder_path = os.path.join(output_folder, folder_name)\n",
    "    os.makedirs(folder_path, exist_ok=True)"
   ]
  },
  {
   "cell_type": "code",
   "execution_count": 17,
   "metadata": {},
   "outputs": [],
   "source": [
    "preds_ = np.squeeze(preds_)"
   ]
  },
  {
   "cell_type": "code",
   "execution_count": null,
   "metadata": {},
   "outputs": [],
   "source": [
    "# Lặp qua các hình ảnh\n",
    "for i in range(len(preds_)):\n",
    "    # Lấy tên thư mục và chỉ mục ảnh\n",
    "    folder_index = i // 1000\n",
    "    folder_name = folder_names[folder_index]\n",
    "    image_index = i % 1000\n",
    "\n",
    "  # Định dạng chỉ mục ảnh dưới dạng chuỗi 5 chữ số\n",
    "    image_index_str = str(image_index + 1).zfill(5)\n",
    "\n",
    "    # Tạo tên ảnh\n",
    "    filename = f'{image_index_str}.png'\n",
    "\n",
    "    # Chuyển đổi về dạng nhị phân\n",
    "    img_binary = (preds_[i] > 0.5).astype(np.uint8) * 255\n",
    "\n",
    "    # Tạo đối tượng từ mảng nhị phân\n",
    "    pred_image = Image.fromarray(img_binary, mode='L')\n",
    "\n",
    "    # Lưu các ảnh\n",
    "    folder_path = os.path.join(output_folder, folder_name)\n",
    "    output_path = os.path.join(folder_path, filename)\n",
    "    pred_image.save(output_path)"
   ]
  },
  {
   "cell_type": "code",
   "execution_count": null,
   "metadata": {},
   "outputs": [],
   "source": [
    "path_img = \"D:\\\\study-hk2\\\\ML\\\\ML\\\\classification_fish\\\\data\\\\data_raw\\\\Fish_Dataset\"\n",
    "path_gt = 'D:\\\\study\\\\machine_learning\\\\classification_fish\\\\data\\\\data_fix\\\\Fish_Dataset_GT'\n",
    "output_folder = \"D:\\\\study-hk2\\\\ML\\\\ML\\\\classification_fish\\\\data\\\\data_fix\\\\Fish_Dataset_Segment\""
   ]
  },
  {
   "cell_type": "code",
   "execution_count": null,
   "metadata": {},
   "outputs": [],
   "source": [
    "# Define the folder names\n",
    "folder_names = ['Black Sea Sprat', 'Gilt Head Bream', 'Hourse Mackerel', 'Red Mullet',\n",
    "               'Red Sea Bream', 'Sea Bass', 'Shrimp', 'Striped Red Mullet', 'Trout']\n",
    "\n",
    "# Create the folders if they don't exist\n",
    "for folder_name in folder_names:\n",
    "    folder_path = os.path.join(output_folder, folder_name)\n",
    "    os.makedirs(folder_path, exist_ok=True)"
   ]
  },
  {
   "cell_type": "code",
   "execution_count": null,
   "metadata": {},
   "outputs": [],
   "source": [
    "folders = os.listdir(path_img)\n",
    "for folder in folders:\n",
    "    folder_path = os.path.join(path_img,folder, folder)\n",
    "    folder_gt = os.path.join(path_gt, folder)\n",
    "    print(folder_path)\n",
    "    print(folder_gt)\n",
    "    for i in range(1, 1001):\n",
    "        img_path = os.path.join(folder_path, f\"{str(i).zfill(5)}.png\")\n",
    "        mask_path = os.path.join(folder_gt, f\"{str(i).zfill(5)}.png\")\n",
    "        # đọc ảnh\n",
    "        img = cv2.imread(img_path)\n",
    "        img = cv2.resize(img, (128, 128))\n",
    "        mask = cv2.imread(mask_path)\n",
    "        mask = cv2.resize(mask, (128, 128))\n",
    "\n",
    "        # Chuyển ảnh mask sang ảnh binary\n",
    "        gray = cv2.cvtColor(mask, cv2.COLOR_BGR2GRAY)\n",
    "        ret, thresh = cv2.threshold(gray, 0, 255, cv2.THRESH_BINARY)\n",
    "\n",
    "        obj = np.zeros_like(img)\n",
    "\n",
    "        # Tìm contours trên ảnh binary\n",
    "        contours, hierarchy = cv2.findContours(thresh, cv2.RETR_TREE, cv2.CHAIN_APPROX_SIMPLE)\n",
    "        # Lặp qua từng contour\n",
    "        for contour in contours:\n",
    "            # Tìm bounding box của contour\n",
    "            x, y, w, h = cv2.boundingRect(contour)\n",
    "\n",
    "            # Kiểm tra kích thước bounding box\n",
    "            if w > 5 and h > 5:\n",
    "                # Kiểm tra màu của pixel tương ứng trên ảnh ground truth\n",
    "                if mask[y:y + h, x:x + w].max() == 255:\n",
    "                    # Lấy phần ảnh tương ứng từ ảnh gốc\n",
    "                    obj[y:y + h, x:x + w] = cv2.bitwise_and(img[y:y + h, x:x + w], mask[y:y + h, x:x + w])\n",
    "                    \n",
    "        cv2.imwrite(f\"D:\\\\study-hk2\\\\ML\\\\ML\\\\classification_fish\\\\data\\\\data_fix\\\\Fish_Dataset_Segment\\\\{folder}\\\\{str(i).zfill(5)}.png\", obj)"
   ]
  },
  {
   "attachments": {},
   "cell_type": "markdown",
   "metadata": {},
   "source": [
    "---"
   ]
  },
  {
   "attachments": {},
   "cell_type": "markdown",
   "metadata": {},
   "source": [
    "# Sử dụng cho dữ liệu NA_Fish_Dataset"
   ]
  },
  {
   "cell_type": "code",
   "execution_count": 21,
   "metadata": {},
   "outputs": [],
   "source": [
    "data_test = []\n",
    "# path = \"D:\\\\study\\\\machine_learning\\\\classification_fish\\\\data\\\\NA_Fish_Dataset\"\n",
    "path1 = 'D:\\\\study-hk2\\\\ML\\\\ML\\\\classification_fish\\\\data\\\\data_raw\\\\NA_Fish_Dataset'\n",
    "folders = os.listdir(path1)\n",
    "for folder in folders:\n",
    "    folder_path = os.path.join(path1, folder)\n",
    "    num_images = len(os.listdir(folder_path))  # Đếm số lượng ảnh trong thư mục\n",
    "    for i in range(1, num_images + 1):\n",
    "        img_path = os.path.join(folder_path, f\"{str(i).zfill(5)}.png\")\n",
    "\n",
    "        img = cv2.imread(img_path)\n",
    "        img = cv2.cvtColor(img, cv2.COLOR_BGR2RGB)\n",
    "        img = cv2.resize(img, (128, 128))\n",
    "        data_test.append([img, folder])\n"
   ]
  },
  {
   "cell_type": "code",
   "execution_count": 22,
   "metadata": {},
   "outputs": [],
   "source": [
    "images = []\n",
    "names = []\n",
    "\n",
    "for image, name in data_test:\n",
    "    images.append(image)\n",
    "    names.append(name)"
   ]
  },
  {
   "cell_type": "code",
   "execution_count": 23,
   "metadata": {},
   "outputs": [
    {
     "name": "stdout",
     "output_type": "stream",
     "text": [
      "0 Black Sea Sprat\n",
      "1 Gilt Head Bream\n",
      "2 Hourse Mackerel\n",
      "3 Red Mullet\n",
      "4 Red Sea Bream\n",
      "5 Sea Bass\n",
      "6 Shrimp\n",
      "7 Striped Red Mullet\n",
      "8 Trout\n"
     ]
    }
   ],
   "source": [
    "# chuấn hóa label thành dạng số\n",
    "le = LabelEncoder()\n",
    "names = le.fit_transform(names)\n",
    "\n",
    "# in ra label và tên tương ứng\n",
    "for i in range(9):\n",
    "    print(i, le.classes_[i])"
   ]
  },
  {
   "cell_type": "code",
   "execution_count": 24,
   "metadata": {},
   "outputs": [
    {
     "data": {
      "text/plain": [
       "(430, 128, 128, 3)"
      ]
     },
     "execution_count": 24,
     "metadata": {},
     "output_type": "execute_result"
    }
   ],
   "source": [
    "images = np.array(images)\n",
    "images.shape"
   ]
  },
  {
   "cell_type": "code",
   "execution_count": 25,
   "metadata": {},
   "outputs": [],
   "source": [
    "model = load_model('D:\\\\study-hk2\\\\ML\\\\ML\\\\classification_fish\\\\model\\\\segmeantation\\\\unet_1.hdf5', \n",
    "                   custom_objects={'my_iou_metric': my_iou_metric})"
   ]
  },
  {
   "cell_type": "code",
   "execution_count": 26,
   "metadata": {},
   "outputs": [
    {
     "name": "stdout",
     "output_type": "stream",
     "text": [
      "14/14 [==============================] - 5s 358ms/step\n"
     ]
    }
   ],
   "source": [
    "preds = model.predict(images, verbose=1)"
   ]
  },
  {
   "cell_type": "code",
   "execution_count": 27,
   "metadata": {},
   "outputs": [],
   "source": [
    "preds = (preds > 0.5).astype(np.uint8)"
   ]
  },
  {
   "cell_type": "code",
   "execution_count": 28,
   "metadata": {},
   "outputs": [],
   "source": [
    "import os\n",
    "path_gt = \"D:\\\\study-hk2\\\\ML\\\\ML\\\\classification_fish\\\\data\\\\data_fix\\\\NA_Fish_Dataset_GT\"\n",
    "if not os.path.exists(path_gt):\n",
    "    os.makedirs(path_gt)"
   ]
  },
  {
   "cell_type": "code",
   "execution_count": 29,
   "metadata": {},
   "outputs": [],
   "source": [
    "# Xác định các thư mục \n",
    "folder_names = ['Black Sea Sprat', 'Gilt Head Bream', 'Hourse Mackerel', 'Red Mullet',\n",
    "               'Red Sea Bream', 'Sea Bass', 'Shrimp', 'Striped Red Mullet', 'Trout']\n",
    "\n",
    "# Tạo các thư mục nếu nó chưa tồn tại\n",
    "for folder_name in folder_names:\n",
    "    folder_path = os.path.join(path_gt, folder_name)\n",
    "    os.makedirs(folder_path, exist_ok=True)"
   ]
  },
  {
   "cell_type": "code",
   "execution_count": 30,
   "metadata": {},
   "outputs": [],
   "source": [
    "preds = np.squeeze(preds)"
   ]
  },
  {
   "cell_type": "code",
   "execution_count": 32,
   "metadata": {},
   "outputs": [],
   "source": [
    "# Lặp qua các hình ảnh\n",
    "for i in range(len(preds)):\n",
    "    # Lấy tên thư mục và chỉ mục ảnh\n",
    "    folder_index = i // 50\n",
    "    folder_name = folder_names[folder_index]\n",
    "    image_index = i % 50\n",
    "\n",
    "  # Định dạng chỉ mục ảnh dưới dạng chuỗi 5 chữ số\n",
    "    image_index_str = str(image_index + 1).zfill(5)\n",
    "\n",
    "    # Tạo tên ảnh\n",
    "    filename = f'{image_index_str}.png'\n",
    "\n",
    "    # Chuyển đổi về dạng nhị phân\n",
    "    img_binary = (preds[i] > 0.5).astype(np.uint8) * 255\n",
    "\n",
    "    # Tạo đối tượng từ mảng nhị phân\n",
    "    pred_image = Image.fromarray(img_binary, mode='L')\n",
    "\n",
    "    # Lưu các ảnh\n",
    "    folder_path = os.path.join(path_gt, folder_name)\n",
    "    output_path = os.path.join(folder_path, filename)\n",
    "    pred_image.save(output_path)"
   ]
  },
  {
   "cell_type": "code",
   "execution_count": 33,
   "metadata": {},
   "outputs": [],
   "source": [
    "path_img = \"D:\\\\study-hk2\\\\ML\\\\ML\\\\classification_fish\\\\data\\\\data_raw\\\\NA_Fish_Dataset\"\n",
    "path_gt = \"D:\\\\study-hk2\\\\ML\\\\ML\\\\classification_fish\\\\data\\\\data_fix\\\\NA_Fish_Dataset_GT\"\n",
    "output_folder = \"D:\\\\study-hk2\\\\ML\\\\ML\\\\classification_fish\\\\data\\\\data_fix\\\\NA_Fish_Dataset_Segment\""
   ]
  },
  {
   "cell_type": "code",
   "execution_count": 34,
   "metadata": {},
   "outputs": [],
   "source": [
    "# Define the folder names\n",
    "folder_names = ['Black Sea Sprat', 'Gilt Head Bream', 'Hourse Mackerel', 'Red Mullet',\n",
    "               'Red Sea Bream', 'Sea Bass', 'Shrimp', 'Striped Red Mullet', 'Trout']\n",
    "\n",
    "# Create the folders if they don't exist\n",
    "for folder_name in folder_names:\n",
    "    folder_path = os.path.join(output_folder, folder_name)\n",
    "    os.makedirs(folder_path, exist_ok=True)"
   ]
  },
  {
   "cell_type": "code",
   "execution_count": 39,
   "metadata": {},
   "outputs": [
    {
     "name": "stdout",
     "output_type": "stream",
     "text": [
      "D:\\study-hk2\\ML\\ML\\classification_fish\\data\\data_raw\\NA_Fish_Dataset\\Black Sea Sprat\n",
      "D:\\study-hk2\\ML\\ML\\classification_fish\\data\\data_fix\\NA_Fish_Dataset_GT\\Black Sea Sprat\n",
      "D:\\study-hk2\\ML\\ML\\classification_fish\\data\\data_raw\\NA_Fish_Dataset\\Gilt Head Bream\n",
      "D:\\study-hk2\\ML\\ML\\classification_fish\\data\\data_fix\\NA_Fish_Dataset_GT\\Gilt Head Bream\n",
      "D:\\study-hk2\\ML\\ML\\classification_fish\\data\\data_raw\\NA_Fish_Dataset\\Hourse Mackerel\n",
      "D:\\study-hk2\\ML\\ML\\classification_fish\\data\\data_fix\\NA_Fish_Dataset_GT\\Hourse Mackerel\n",
      "D:\\study-hk2\\ML\\ML\\classification_fish\\data\\data_raw\\NA_Fish_Dataset\\Red Mullet\n",
      "D:\\study-hk2\\ML\\ML\\classification_fish\\data\\data_fix\\NA_Fish_Dataset_GT\\Red Mullet\n",
      "D:\\study-hk2\\ML\\ML\\classification_fish\\data\\data_raw\\NA_Fish_Dataset\\Red Sea Bream\n",
      "D:\\study-hk2\\ML\\ML\\classification_fish\\data\\data_fix\\NA_Fish_Dataset_GT\\Red Sea Bream\n",
      "D:\\study-hk2\\ML\\ML\\classification_fish\\data\\data_raw\\NA_Fish_Dataset\\Sea Bass\n",
      "D:\\study-hk2\\ML\\ML\\classification_fish\\data\\data_fix\\NA_Fish_Dataset_GT\\Sea Bass\n",
      "D:\\study-hk2\\ML\\ML\\classification_fish\\data\\data_raw\\NA_Fish_Dataset\\Shrimp\n",
      "D:\\study-hk2\\ML\\ML\\classification_fish\\data\\data_fix\\NA_Fish_Dataset_GT\\Shrimp\n",
      "D:\\study-hk2\\ML\\ML\\classification_fish\\data\\data_raw\\NA_Fish_Dataset\\Striped Red Mullet\n",
      "D:\\study-hk2\\ML\\ML\\classification_fish\\data\\data_fix\\NA_Fish_Dataset_GT\\Striped Red Mullet\n",
      "D:\\study-hk2\\ML\\ML\\classification_fish\\data\\data_raw\\NA_Fish_Dataset\\Trout\n",
      "D:\\study-hk2\\ML\\ML\\classification_fish\\data\\data_fix\\NA_Fish_Dataset_GT\\Trout\n"
     ]
    }
   ],
   "source": [
    "folders = os.listdir(path_img)\n",
    "for folder in folders:\n",
    "    folder_path = os.path.join(path_img, folder)\n",
    "    folder_gt = os.path.join(path_gt, folder)\n",
    "    print(folder_path)\n",
    "    print(folder_gt)\n",
    "    num_images = len(os.listdir(folder_path)) \n",
    "    for i in range(1, num_images+1):\n",
    "        img_path = os.path.join(folder_path, f\"{str(i).zfill(5)}.png\")\n",
    "        mask_path = os.path.join(folder_gt, f\"{str(i).zfill(5)}.png\")\n",
    "        # đọc ảnh\n",
    "        img = cv2.imread(img_path)\n",
    "        img = cv2.resize(img, (128, 128))\n",
    "        mask = cv2.imread(mask_path)\n",
    "        mask = cv2.resize(mask, (128, 128))\n",
    "\n",
    "        # Chuyển ảnh mask sang ảnh binary\n",
    "        gray = cv2.cvtColor(mask, cv2.COLOR_BGR2GRAY)\n",
    "        ret, thresh = cv2.threshold(gray, 0, 255, cv2.THRESH_BINARY)\n",
    "\n",
    "        obj = np.zeros_like(img)\n",
    "\n",
    "        # Tìm contours trên ảnh binary\n",
    "        contours, hierarchy = cv2.findContours(thresh, cv2.RETR_TREE, cv2.CHAIN_APPROX_SIMPLE)\n",
    "        # Lặp qua từng contour\n",
    "        for contour in contours:\n",
    "            # Tìm bounding box của contour\n",
    "            x, y, w, h = cv2.boundingRect(contour)\n",
    "\n",
    "            # Kiểm tra kích thước bounding box\n",
    "            if w > 5 and h > 5:\n",
    "                # Kiểm tra màu của pixel tương ứng trên ảnh ground truth\n",
    "                if mask[y:y + h, x:x + w].max() == 255:\n",
    "                    # Lấy phần ảnh tương ứng từ ảnh gốc\n",
    "                    obj[y:y + h, x:x + w] = cv2.bitwise_and(img[y:y + h, x:x + w], mask[y:y + h, x:x + w])\n",
    "        \n",
    "        # Lưu ảnh obj vào thư mục D:\\study\\machine_learning\\classification_fish\\clustering\\data\\Fish_Dataset_Segment\\{folder}\n",
    "        cv2.imwrite(f\"D:\\\\study-hk2\\\\ML\\\\ML\\\\classification_fish\\\\data\\\\data_fix\\\\NA_Fish_Dataset_Segment\\\\{folder}\\\\{str(i).zfill(5)}.png\", obj)"
   ]
  }
 ],
 "metadata": {
  "kernelspec": {
   "display_name": "Python 3",
   "language": "python",
   "name": "python3"
  },
  "language_info": {
   "codemirror_mode": {
    "name": "ipython",
    "version": 3
   },
   "file_extension": ".py",
   "mimetype": "text/x-python",
   "name": "python",
   "nbconvert_exporter": "python",
   "pygments_lexer": "ipython3",
   "version": "3.11.3"
  },
  "orig_nbformat": 4
 },
 "nbformat": 4,
 "nbformat_minor": 2
}
